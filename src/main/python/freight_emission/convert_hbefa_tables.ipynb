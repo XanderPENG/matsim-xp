{
 "cells": [
  {
   "cell_type": "code",
   "execution_count": 1,
   "metadata": {},
   "outputs": [],
   "source": [
    "import os\n",
    "import numpy as np\n",
    "import pandas as pd"
   ]
  },
  {
   "cell_type": "code",
   "execution_count": 2,
   "metadata": {},
   "outputs": [],
   "source": [
    "raw_data_path = r'../../../../data/raw/freight_emission/'\n",
    "processed_data_path = r'../../../../data/intermediate/test/freight_emission/'"
   ]
  },
  {
   "cell_type": "code",
   "execution_count": 3,
   "metadata": {},
   "outputs": [
    {
     "data": {},
     "execution_count": 3,
     "metadata": {},
     "output_type": "execute_result"
    }
   ],
   "source": [
    "filenames = list(filter(lambda x: '.XLSX' in x, os.listdir(raw_data_path)))\n",
    "filenames"
   ]
  },
  {
   "cell_type": "markdown",
   "metadata": {},
   "source": [
    "# Check the consistency of EF"
   ]
  },
  {
   "cell_type": "code",
   "execution_count": 32,
   "metadata": {},
   "outputs": [],
   "source": [
    "def check_and_fill_warm_emission_factors(df, vehicle_type='eBike', field_name='V_100%'):\n",
    "\n",
    "    sub_df = df[df['Subsegment'] == vehicle_type]\n",
    "\n",
    "    full_ef = df['Component'].unique()\n",
    "    full_traffic_sit = df['TrafficSit'].unique()\n",
    "\n",
    "    full_fields_list = df.columns.tolist()\n",
    "    idx_V = full_fields_list.index(field_name)\n",
    "   \n",
    "    post_fields_list = full_fields_list[idx_V:]\n",
    "\n",
    "    if sub_df.empty:\n",
    "        raise ValueError(f\"No records found for vehicle type '{vehicle_type}'\")\n",
    "    sample_eBike_record = sub_df.iloc[0]\n",
    "\n",
    "    # create new records\n",
    "    new_records = []\n",
    "    for ef in full_ef:\n",
    "        avg_ef_value = sub_df[sub_df['Component'] == ef][post_fields_list[1]].mean()\n",
    "        print(f\"Average value for {ef} is {avg_ef_value}\")\n",
    "        for ts in full_traffic_sit:\n",
    "            if not ((sub_df['Component'] == ef) & (sub_df['TrafficSit'] == ts)).any():\n",
    "                \n",
    "                new_record = sample_eBike_record.to_dict()\n",
    "                new_record['Component'] = ef\n",
    "                new_record['TrafficSit'] = ts\n",
    "                for field in post_fields_list:\n",
    "                    # TODO: This is a hack, need to find a better way to fill the values; maybe use the average of the values\n",
    "                    if field == 'EFA':\n",
    "                        new_record[field] = avg_ef_value\n",
    "                    else:\n",
    "                        new_record[field] = 0\n",
    "                new_records.append(new_record)\n",
    "\n",
    "    # Add new records to the dataframe\n",
    "    if new_records:\n",
    "        new_records_df = pd.DataFrame(new_records)\n",
    "        df = pd.concat([df, new_records_df], ignore_index=True)\n",
    "\n",
    "    return df\n"
   ]
  },
  {
   "cell_type": "code",
   "execution_count": 5,
   "metadata": {},
   "outputs": [],
   "source": [
    "def check_and_fill_cold_emission_factors(df, vehicle_type='LCV petrol N1-III Euro-6c', field_name='%OfSubsegment'):\n",
    "\n",
    "    sub_df = df[df['Subsegment'] == vehicle_type]\n",
    "\n",
    "    full_ef = df['Component'].unique()\n",
    "    full_traffic_sit = df['AmbientCondPattern'].unique()\n",
    "\n",
    "    full_fields_list = df.columns.tolist()\n",
    "    idx_V = full_fields_list.index(field_name)\n",
    "    post_fields_list = full_fields_list[idx_V:]\n",
    "\n",
    "    if sub_df.empty:\n",
    "        raise ValueError(f\"No records found for vehicle type '{vehicle_type}'\")\n",
    "    sample_eBike_record = sub_df.iloc[0]\n",
    "\n",
    "    # create new records\n",
    "    new_records = []\n",
    "    for ef in full_ef:\n",
    "        avg_ef_value = sub_df[sub_df['Component'] == ef][field_name].mean()\n",
    "        for ts in full_traffic_sit:\n",
    "            if not ((sub_df['Component'] == ef) & (sub_df['AmbientCondPattern'] == ts)).any():\n",
    "                \n",
    "                new_record = sample_eBike_record.to_dict()\n",
    "                new_record['Component'] = ef\n",
    "                new_record['AmbientCondPattern'] = ts\n",
    "                for field in post_fields_list:\n",
    "                    new_record[field] = avg_ef_value\n",
    "                new_records.append(new_record)\n",
    "\n",
    "    # Add new records to the dataframe\n",
    "    if new_records:\n",
    "        new_records_df = pd.DataFrame(new_records)\n",
    "        df = pd.concat([df, new_records_df], ignore_index=True)\n",
    "\n",
    "    return df"
   ]
  },
  {
   "cell_type": "code",
   "execution_count": 42,
   "metadata": {},
   "outputs": [],
   "source": [
    "def check_and_fill_cold_emission_factorsV2(df, vehicle_type='LCV petrol N1-III Euro-6c', field_name='%OfSubsegment'):\n",
    "\n",
    "    sub_df = df[df['Subsegment'] == vehicle_type]\n",
    "\n",
    "    full_ef = df['Component'].unique()\n",
    "    full_traffic_sit = df['AmbientCondPattern'].unique()\n",
    "\n",
    "    full_fields_list = df.columns.tolist()\n",
    "    idx_V = full_fields_list.index(field_name)\n",
    "    post_fields_list = full_fields_list[idx_V:]\n",
    "\n",
    "    if sub_df.empty:\n",
    "        raise ValueError(f\"No records found for vehicle type '{vehicle_type}'\")\n",
    "    sample_eBike_record = sub_df.iloc[0]\n",
    "\n",
    "    # create new records\n",
    "    new_records = []\n",
    "    for ef in full_ef:\n",
    "        # avg_ef_value = sub_df[sub_df['Component'] == ef][field_name].mean()\n",
    "        for ts in full_traffic_sit:\n",
    "            if not ((sub_df['Component'] == ef) & (sub_df['AmbientCondPattern'] == ts)).any():\n",
    "                print(f\"adding missing record for {ef} and {ts}\")\n",
    "                new_record = sample_eBike_record.to_dict()\n",
    "                new_record['Component'] = ef\n",
    "                new_record['AmbientCondPattern'] = ts\n",
    "                for field in post_fields_list:\n",
    "                    new_record[field] = 0\n",
    "                new_records.append(new_record)\n",
    "            \n",
    "\n",
    "    # Add new records to the dataframe\n",
    "    if new_records:\n",
    "        new_records_df = pd.DataFrame(new_records)\n",
    "        df = pd.concat([df, new_records_df], ignore_index=True)\n",
    "\n",
    "    # Add records with lack of hours\n",
    "    new_records = []\n",
    "    sub_df = df[df['Subsegment'] == vehicle_type]\n",
    "    lack_hours = [6, 7, 8, 9, 10, 11, 12]\n",
    "    for ef in full_ef:\n",
    "        ## Sample records\n",
    "        distance_01 = sub_df[sub_df['AmbientCondPattern'].str.contains('4-5h,0-1km') & (sub_df['Component'] == ef)]\n",
    "        assert len(distance_01) == 1\n",
    "        distance_12 = sub_df[sub_df['AmbientCondPattern'].str.contains('4-5h,1-2km') & (sub_df['Component'] == ef)]\n",
    "        assert len(distance_12) == 1\n",
    "        sample_prefix = sub_df.iloc[0]['AmbientCondPattern'].split(',')[0]\n",
    "        for h in lack_hours:\n",
    "            if not ((sub_df['Component'] == ef) & (sub_df['AmbientCondPattern'] == f'{sample_prefix},{h-1}-{h}h,0-1km')).any():\n",
    "                new_record = distance_01.iloc[0].to_dict()\n",
    "                new_record['AmbientCondPattern'] = f'{sample_prefix},{h-1}-{h}h,0-1km'\n",
    "                new_records.append(new_record)\n",
    "            if not ((sub_df['Component'] == ef) & (sub_df['AmbientCondPattern'] == f'{sample_prefix},{h-1}-{h}h,1-2km')).any():\n",
    "                new_record = distance_12.iloc[0].to_dict()\n",
    "                new_record['AmbientCondPattern'] = f'{sample_prefix},{h-1}-{h}h,1-2km'\n",
    "                new_records.append(new_record)\n",
    "    if new_records:\n",
    "        new_records_df = pd.DataFrame(new_records)\n",
    "        df = pd.concat([df, new_records_df], ignore_index=True)\n",
    "    return df"
   ]
  },
  {
   "cell_type": "markdown",
   "metadata": {},
   "source": [
    "## Convert the sizeClasse of eBike into NA"
   ]
  },
  {
   "cell_type": "code",
   "execution_count": 7,
   "metadata": {},
   "outputs": [],
   "source": [
    "def convert_eBike_sizeClass(row: pd.Series):\n",
    "    if row['SizeClasse'] == 'not specified' and row['Subsegment'] == 'eScooter':\n",
    "        return 'NA' \n",
    "    else:\n",
    "        return row['SizeClasse']       "
   ]
  },
  {
   "cell_type": "markdown",
   "metadata": {},
   "source": [
    "# Replace the value of EFA for CO2e"
   ]
  },
  {
   "cell_type": "code",
   "execution_count": 8,
   "metadata": {},
   "outputs": [],
   "source": [
    "def replace_efa4co2e(row: pd.Series):\n",
    "    if row['Component'] == 'CO2e':\n",
    "        return row['EFA_WTW']\n",
    "    else:\n",
    "        return row['EFA']"
   ]
  },
  {
   "cell_type": "markdown",
   "metadata": {},
   "source": [
    "# Output"
   ]
  },
  {
   "cell_type": "code",
   "execution_count": null,
   "metadata": {},
   "outputs": [
    {
     "name": "stdout",
     "output_type": "stream",
     "text": []
    }
   ],
   "source": [
    "for filename in filenames:\n",
    "    df = pd.read_excel(raw_data_path + filename)\n",
    "    # Remove rows with error region/country info\n",
    "    df = df.query(\"AmbientCondPattern != 'ØGermany'\")\n",
    "    if df.empty:\n",
    "        pass\n",
    "    else:\n",
    "        print(f\"Processing file {filename}\")\n",
    "        # Fill missing emission factors\n",
    "        if 'Cold' in filename and 'MC' in filename:\n",
    "            df = check_and_fill_cold_emission_factors(df, vehicle_type='eBike')\n",
    "        elif 'Cold' in filename and 'LCV' in filename:\n",
    "            df = check_and_fill_cold_emission_factors(df, vehicle_type='LCV petrol N1-III Euro-6c')\n",
    "        elif 'HOT' in filename and 'MC' in filename:\n",
    "            df = check_and_fill_warm_emission_factors(df, vehicle_type='eBike')\n",
    "        elif 'HOT' in filename and 'LCV' in filename:\n",
    "            df = check_and_fill_warm_emission_factors(df, vehicle_type='LCV petrol N1-III Euro-6c')\n",
    "        else:\n",
    "            # Average table\n",
    "            pass\n",
    "        \n",
    "    if 'average' not in filename:\n",
    "        # replace the value of 'EFA' with 'EFA_WTW' for emission factor - CO2e\n",
    "        df['EFA'] = df.apply(lambda x: replace_efa4co2e(x), axis=1)\n",
    "\n",
    "    if 'MC' in filename and not df.query(\"Subsegment == 'eBike'\").empty:\n",
    "        # Convert the SizeClasse for eBike\n",
    "        df['SizeClasse'] = df.apply(lambda x: convert_eBike_sizeClass(x), axis=1)\n",
    "\n",
    "    # check the consistency of the emission factors, and then fill the missing factors.\n",
    "    df.to_csv(processed_data_path + filename[:-5] + \"V2.csv.gz\", sep=';', index=False, compression='gzip', encoding='utf-8-sig')\n",
    "    print(f\"File {filename} processed and saved to {processed_data_path + filename[:-5] + 'V2.csv.gz'}\")\n"
   ]
  },
  {
   "cell_type": "code",
   "execution_count": null,
   "metadata": {},
   "outputs": [],
   "source": []
  },
  {
   "cell_type": "code",
   "execution_count": null,
   "metadata": {},
   "outputs": [],
   "source": [
    "for filename in filenames:\n",
    "    df = pd.read_excel(raw_data_path + filename)\n",
    "    # Remove rows with error region/country info\n",
    "    df = df.query(\"AmbientCondPattern != 'ØGermany'\")\n",
    "    if df.empty:\n",
    "        pass\n",
    "    else:\n",
    "        print(f\"Processing file {filename}\")\n",
    "        # Fill missing emission factors\n",
    "        if 'Cold' in filename and 'MC' in filename:\n",
    "            df = check_and_fill_cold_emission_factors(df, vehicle_type='eBike')\n",
    "        elif 'Cold' in filename and 'LCV' in filename:\n",
    "            df = check_and_fill_cold_emission_factors(df, vehicle_type='LCV petrol N1-III Euro-6c')\n",
    "        elif 'HOT' in filename and 'MC' in filename:\n",
    "            df = check_and_fill_warm_emission_factors(df, vehicle_type='eBike')\n",
    "        elif 'HOT' in filename and 'LCV' in filename:\n",
    "            df = check_and_fill_warm_emission_factors(df, vehicle_type='LCV petrol N1-III Euro-6c')\n",
    "        else:\n",
    "            # Average table\n",
    "            pass\n",
    "        \n",
    "    if 'average' not in filename:\n",
    "        # replace the value of 'EFA' with 'EFA_WTW' for emission factor - CO2e\n",
    "        df['EFA'] = df.apply(lambda x: replace_efa4co2e(x), axis=1)\n",
    "\n",
    "    if 'MC' in filename and not df.query(\"Subsegment == 'eBike'\").empty:\n",
    "        # Convert the SizeClasse for eBike\n",
    "        df['SizeClasse'] = df.apply(lambda x: convert_eBike_sizeClass(x), axis=1)\n",
    "\n",
    "    # check the consistency of the emission factors, and then fill the missing factors.\n",
    "    df.to_csv(processed_data_path + filename[:-5] + \"V2.csv.gz\", sep=';', index=False, compression='gzip', encoding='utf-8-sig')\n",
    "    print(f\"File {filename} processed and saved to {processed_data_path + filename[:-5] + 'V2.csv.gz'}\")\n"
   ]
  },
  {
   "cell_type": "markdown",
   "metadata": {},
   "source": [
    "# Output V2"
   ]
  },
  {
   "cell_type": "code",
   "execution_count": 34,
   "metadata": {},
   "outputs": [
    {
     "data": {},
     "execution_count": 34,
     "metadata": {},
     "output_type": "execute_result"
    }
   ],
   "source": [
    "filenames = list(filter(lambda x: '.XLSX' in x and 'Cold' in x and 'detailed' in x, os.listdir(raw_data_path)))\n",
    "filenames"
   ]
  },
  {
   "cell_type": "code",
   "execution_count": 44,
   "metadata": {},
   "outputs": [
    {
     "name": "stdout",
     "output_type": "stream",
     "text": []
    }
   ],
   "source": [
    "''' Add lack hours for cold emission factors '''\n",
    "for filename in filenames:\n",
    "    df = pd.read_excel(raw_data_path + filename)\n",
    "    # Remove rows with error region/country info\n",
    "    df = df.query(\"AmbientCondPattern != 'ØGermany'\")\n",
    "    if df.empty:\n",
    "        pass\n",
    "    else:\n",
    "        print(f\"Processing file {filename}\")\n",
    "        # Fill missing emission factors\n",
    "        if 'Cold' in filename and 'MC' in filename:\n",
    "            df = check_and_fill_cold_emission_factorsV2(df, vehicle_type='eScooter')\n",
    "        elif 'Cold' in filename and 'LCV' in filename:\n",
    "            df = check_and_fill_cold_emission_factorsV2(df, vehicle_type='LCV petrol N1-III Euro-6c')\n",
    "            # df = check_and_fill_cold_emission_factorsV2(df, vehicle_type='LCV BEV N1-IIII')  # This is a new added vehicle type for EV\n",
    "        elif 'HOT' in filename and 'MC' in filename:\n",
    "            df = check_and_fill_warm_emission_factors(df, vehicle_type='eScooter')\n",
    "        elif 'HOT' in filename and 'LCV' in filename:\n",
    "            df = check_and_fill_warm_emission_factors(df, vehicle_type='LCV petrol N1-III Euro-6c')\n",
    "            # df = check_and_fill_warm_emission_factors(df, vehicle_type='LCV BEV N1-IIII')  # This is a new added vehicle type for EV\n",
    "        else:\n",
    "            # Average table\n",
    "            pass\n",
    "        \n",
    "    if 'average' not in filename:\n",
    "        # replace the value of 'EFA' with 'EFA_WTW' for emission factor - CO2e\n",
    "        df['EFA'] = df.apply(lambda x: replace_efa4co2e(x), axis=1)\n",
    "\n",
    "    if 'MC' in filename and not df.query(\"Subsegment == 'eScooter'\").empty:\n",
    "        # Convert the SizeClasse for eBike\n",
    "        df['SizeClasse'] = df.apply(lambda x: convert_eBike_sizeClass(x), axis=1)\n",
    "\n",
    "    # check the consistency of the emission factors, and then fill the missing factors.\n",
    "    df.to_csv(processed_data_path + filename[:-5] + \"V4.csv.gz\", sep=';', index=False, compression='gzip', encoding='utf-8-sig')\n",
    "    print(f\"File {filename} processed and saved to {processed_data_path + filename[:-5] + 'V4.csv.gz'}\")"
   ]
  },
  {
   "cell_type": "markdown",
   "metadata": {},
   "source": [
    "# Test"
   ]
  },
  {
   "cell_type": "code",
   "execution_count": 8,
   "metadata": {},
   "outputs": [
    {
     "data": {},
     "execution_count": 8,
     "metadata": {},
     "output_type": "execute_result"
    }
   ],
   "source": [
    "test_data = pd.read_excel(raw_data_path + filenames[-2])\n",
    "test_data"
   ]
  },
  {
   "cell_type": "code",
   "execution_count": 9,
   "metadata": {},
   "outputs": [
    {
     "data": {},
     "execution_count": 9,
     "metadata": {},
     "output_type": "execute_result"
    }
   ],
   "source": [
    "test_data.query(\"AmbientCondPattern != 'ØGermany'\")"
   ]
  },
  {
   "cell_type": "code",
   "execution_count": null,
   "metadata": {},
   "outputs": [],
   "source": [
    "test_data.query(\"Subsegment == 'LCV petrol N1-III Euro-6c' and TrafficSit == 'URB/Access/30/Heavy'\")"
   ]
  },
  {
   "cell_type": "code",
   "execution_count": null,
   "metadata": {},
   "outputs": [],
   "source": [
    "test_data_ = check_and_fill_warm_emission_factors(test_data, vehicle_type='LCV petrol N1-III Euro-6c')\n",
    "test_data_.query(\"Subsegment == 'LCV petrol N1-III Euro-6c' and TrafficSit == 'URB/Access/30/Heavy'\")"
   ]
  },
  {
   "cell_type": "code",
   "execution_count": null,
   "metadata": {},
   "outputs": [],
   "source": [
    "test_data_.query(\"Subsegment == 'LCV petrol N1-III Euro-6c' and TrafficSit == 'URB/Access/30/Heavy'\").iloc[-1, :]"
   ]
  },
  {
   "cell_type": "markdown",
   "metadata": {},
   "source": [
    "# TestV2"
   ]
  },
  {
   "cell_type": "code",
   "execution_count": 12,
   "metadata": {},
   "outputs": [],
   "source": [
    "input_path = r'../../../../data/intermediate/test/freightEmissions/'"
   ]
  },
  {
   "cell_type": "code",
   "execution_count": 24,
   "metadata": {},
   "outputs": [
    {
     "name": "stdout",
     "output_type": "stream",
     "text": []
    },
    {
     "data": {},
     "execution_count": 24,
     "metadata": {},
     "output_type": "execute_result"
    }
   ],
   "source": [
    "lcv_warm_processed = pd.read_csv(input_path + 'EFA_HOT_Subsegm_LCV2025detailed.csv.gz', sep=';', compression='gzip')\n",
    "lcv_warm_processed"
   ]
  },
  {
   "cell_type": "code",
   "execution_count": 13,
   "metadata": {},
   "outputs": [
    {
     "data": {},
     "execution_count": 13,
     "metadata": {},
     "output_type": "execute_result"
    }
   ],
   "source": [
    "lcv_cold_processed = pd.read_csv(input_path + 'EFA_ColdStart_Subsegm_LCV2025detailed.csv.gz', sep=';')\n",
    "lcv_cold_processed"
   ]
  },
  {
   "cell_type": "code",
   "execution_count": 20,
   "metadata": {},
   "outputs": [
    {
     "data": {},
     "execution_count": 20,
     "metadata": {},
     "output_type": "execute_result"
    }
   ],
   "source": [
    "v1_data = check_and_fill_cold_emission_factors(lcv_cold_processed)\n",
    "v1_data"
   ]
  },
  {
   "cell_type": "code",
   "execution_count": 21,
   "metadata": {},
   "outputs": [
    {
     "data": {},
     "execution_count": 21,
     "metadata": {},
     "output_type": "execute_result"
    }
   ],
   "source": [
    "v2_data = check_and_fill_cold_emission_factorsV2(lcv_cold_processed)\n",
    "v2_data"
   ]
  },
  {
   "cell_type": "code",
   "execution_count": 51,
   "metadata": {},
   "outputs": [
    {
     "data": {},
     "execution_count": 51,
     "metadata": {},
     "output_type": "execute_result"
    }
   ],
   "source": [
    "lcv_cold_processed[lcv_cold_processed['AmbientCondPattern'].str.contains('5-6h,0-1km') & (lcv_cold_processed['Component'] == 'CO2e')]"
   ]
  },
  {
   "cell_type": "code",
   "execution_count": 44,
   "metadata": {},
   "outputs": [
    {
     "data": {},
     "execution_count": 44,
     "metadata": {},
     "output_type": "execute_result"
    }
   ],
   "source": [
    "lcv_cold_processed.iloc[0]['AmbientCondPattern'].split(',')[0]"
   ]
  },
  {
   "cell_type": "markdown",
   "metadata": {},
   "source": [
    "# Test V3 for EV"
   ]
  },
  {
   "cell_type": "code",
   "execution_count": 23,
   "metadata": {},
   "outputs": [
    {
     "data": {},
     "execution_count": 23,
     "metadata": {},
     "output_type": "execute_result"
    }
   ],
   "source": [
    "lcv_cold_processed['Technology'].unique()"
   ]
  },
  {
   "cell_type": "code",
   "execution_count": 44,
   "metadata": {},
   "outputs": [
    {
     "data": {},
     "execution_count": 44,
     "metadata": {},
     "output_type": "execute_result"
    }
   ],
   "source": [
    "lcv_cold_processed['Component'].unique()"
   ]
  },
  {
   "cell_type": "markdown",
   "metadata": {},
   "source": [
    "## Warm"
   ]
  },
  {
   "cell_type": "code",
   "execution_count": 25,
   "metadata": {},
   "outputs": [
    {
     "data": {},
     "execution_count": 25,
     "metadata": {},
     "output_type": "execute_result"
    }
   ],
   "source": [
    "lcv_warm_processed['Technology'].unique()"
   ]
  },
  {
   "cell_type": "code",
   "execution_count": 45,
   "metadata": {},
   "outputs": [
    {
     "data": {},
     "execution_count": 45,
     "metadata": {},
     "output_type": "execute_result"
    }
   ],
   "source": [
    "lcv_warm_processed['Component'].unique()"
   ]
  },
  {
   "cell_type": "code",
   "execution_count": 46,
   "metadata": {},
   "outputs": [
    {
     "data": {},
     "execution_count": 46,
     "metadata": {},
     "output_type": "execute_result"
    }
   ],
   "source": [
    "set(lcv_cold_processed['Component'].unique()) - set(lcv_warm_processed['Component'].unique())"
   ]
  },
  {
   "cell_type": "code",
   "execution_count": 30,
   "metadata": {},
   "outputs": [
    {
     "data": {},
     "execution_count": 30,
     "metadata": {},
     "output_type": "execute_result"
    }
   ],
   "source": [
    "lcv_warm_processed"
   ]
  },
  {
   "cell_type": "code",
   "execution_count": 31,
   "metadata": {},
   "outputs": [
    {
     "data": {},
     "execution_count": 31,
     "metadata": {},
     "output_type": "execute_result"
    }
   ],
   "source": [
    "lcv_warm_processed[lcv_warm_processed['Subsegment'] == 'LCV BEV N1-IIII']"
   ]
  },
  {
   "cell_type": "code",
   "execution_count": 32,
   "metadata": {},
   "outputs": [
    {
     "data": {},
     "execution_count": 32,
     "metadata": {},
     "output_type": "execute_result"
    }
   ],
   "source": [
    "filled_lcv_warm = check_and_fill_warm_emission_factors(lcv_warm_processed, vehicle_type='LCV BEV N1-IIII')\n",
    "filled_lcv_warm"
   ]
  },
  {
   "cell_type": "code",
   "execution_count": 41,
   "metadata": {},
   "outputs": [
    {
     "data": {},
     "execution_count": 41,
     "metadata": {},
     "output_type": "execute_result"
    }
   ],
   "source": [
    "filled_lcv_warm[filled_lcv_warm['Subsegment'] == 'LCV petrol N1-III Euro-6c'].query(\"Component == 'CO2(rep)'\")"
   ]
  },
  {
   "cell_type": "markdown",
   "metadata": {},
   "source": []
  },
  {
   "cell_type": "code",
   "execution_count": null,
   "metadata": {},
   "outputs": [
    {
     "data": {},
     "execution_count": 36,
     "metadata": {},
     "output_type": "execute_result"
    }
   ],
   "source": [
    "filled_lcv_warm[filled_lcv_warm['Subsegment'] == 'LCV BEV N1-IIII']['Component'].unique()"
   ]
  },
  {
   "cell_type": "code",
   "execution_count": 42,
   "metadata": {},
   "outputs": [
    {
     "data": {},
     "execution_count": 42,
     "metadata": {},
     "output_type": "execute_result"
    }
   ],
   "source": [
    "lcv_cold_processed[lcv_cold_processed['Subsegment'] == 'LCV petrol N1-III Euro-6c'].query(\"Component == 'CO2e'\")"
   ]
  },
  {
   "cell_type": "markdown",
   "metadata": {},
   "source": [
    "# Test V4"
   ]
  },
  {
   "cell_type": "markdown",
   "metadata": {},
   "source": [
    "This test aims to check whether the average value of **newly-added records** which are missed in the raw table is added\n",
    "particularly for the LCVs"
   ]
  },
  {
   "cell_type": "code",
   "execution_count": 22,
   "metadata": {},
   "outputs": [
    {
     "data": {},
     "execution_count": 22,
     "metadata": {},
     "output_type": "execute_result"
    }
   ],
   "source": [
    "test_warm_lcv = pd.read_excel(raw_data_path + 'EFA_HOT_Subsegm_LCV2025detailed.XLSX')\n",
    "test_warm_lcv"
   ]
  },
  {
   "cell_type": "code",
   "execution_count": 23,
   "metadata": {},
   "outputs": [
    {
     "data": {},
     "execution_count": 23,
     "metadata": {},
     "output_type": "execute_result"
    }
   ],
   "source": [
    "test_warm_lcv[(test_warm_lcv['EmConcept']=='LCV P Euro-6') \n",
    "                   & (test_warm_lcv['Component']=='PM2.5')\n",
    "                    & (test_warm_lcv['SizeClasse']=='N1-III')]"
   ]
  },
  {
   "cell_type": "code",
   "execution_count": 33,
   "metadata": {},
   "outputs": [
    {
     "name": "stdout",
     "output_type": "stream",
     "text": []
    },
    {
     "data": {},
     "execution_count": 33,
     "metadata": {},
     "output_type": "execute_result"
    }
   ],
   "source": [
    "test_filled_df = check_and_fill_warm_emission_factors(test_warm_lcv, vehicle_type='LCV petrol N1-III Euro-6c')\n",
    "test_filled_df"
   ]
  },
  {
   "cell_type": "code",
   "execution_count": 34,
   "metadata": {},
   "outputs": [
    {
     "data": {},
     "execution_count": 34,
     "metadata": {},
     "output_type": "execute_result"
    }
   ],
   "source": [
    "test_filled_df[(test_filled_df['EmConcept']=='LCV P Euro-6') \n",
    "                   & (test_filled_df['Component']=='PM2.5')\n",
    "                    & (test_filled_df['SizeClasse']=='N1-III')]"
   ]
  },
  {
   "cell_type": "code",
   "execution_count": 35,
   "metadata": {},
   "outputs": [
    {
     "data": {},
     "execution_count": 35,
     "metadata": {},
     "output_type": "execute_result"
    }
   ],
   "source": [
    "test_cold_lcv = pd.read_excel(raw_data_path + 'EFA_ColdStart_Subsegm_LCV2025detailed.XLSX')\n",
    "test_cold_lcv"
   ]
  },
  {
   "cell_type": "code",
   "execution_count": 39,
   "metadata": {},
   "outputs": [
    {
     "data": {},
     "execution_count": 39,
     "metadata": {},
     "output_type": "execute_result"
    }
   ],
   "source": [
    "test_cold_lcv[(test_cold_lcv['EmConcept']=='LCV P Euro-6') \n",
    "                   & (test_cold_lcv['Component']=='CO')\n",
    "                    & (test_cold_lcv['SizeClasse']=='N1-III')]"
   ]
  },
  {
   "cell_type": "code",
   "execution_count": 43,
   "metadata": {},
   "outputs": [
    {
     "data": {},
     "execution_count": 43,
     "metadata": {},
     "output_type": "execute_result"
    }
   ],
   "source": [
    "test_cold_filled = check_and_fill_cold_emission_factorsV2(test_cold_lcv, vehicle_type='LCV petrol N1-III Euro-6c')\n",
    "test_cold_filled"
   ]
  },
  {
   "cell_type": "code",
   "execution_count": 40,
   "metadata": {},
   "outputs": [
    {
     "data": {},
     "execution_count": 40,
     "metadata": {},
     "output_type": "execute_result"
    }
   ],
   "source": [
    "test_cold_filled[(test_cold_filled['EmConcept']=='LCV P Euro-6') \n",
    "                   & (test_cold_filled['Component']=='CO')\n",
    "                    & (test_cold_filled['SizeClasse']=='N1-III')]"
   ]
  },
  {
   "cell_type": "markdown",
   "metadata": {},
   "source": [
    "## LCV cold"
   ]
  },
  {
   "cell_type": "code",
   "execution_count": 14,
   "metadata": {},
   "outputs": [
    {
     "data": {},
     "execution_count": 14,
     "metadata": {},
     "output_type": "execute_result"
    }
   ],
   "source": [
    "lcv_cold_processed = pd.read_csv(os.path.join(processed_data_path, 'EFA_ColdStart_Subsegm_LCV2025detailedV4.csv.gz'), sep=';', compression='gzip')\n",
    "lcv_cold_processed"
   ]
  },
  {
   "cell_type": "code",
   "execution_count": 20,
   "metadata": {},
   "outputs": [
    {
     "data": {},
     "execution_count": 20,
     "metadata": {},
     "output_type": "execute_result"
    }
   ],
   "source": [
    "lcv_cold_processed[(lcv_cold_processed['EmConcept']=='LCV P Euro-6') \n",
    "                #    & (lcv_cold_processed['Component']=='PM2.5')\n",
    "                    & (lcv_cold_processed['SizeClasse']=='N1-III')]"
   ]
  },
  {
   "cell_type": "markdown",
   "metadata": {},
   "source": [
    "## LCV warm"
   ]
  },
  {
   "cell_type": "code",
   "execution_count": 45,
   "metadata": {},
   "outputs": [
    {
     "name": "stdout",
     "output_type": "stream",
     "text": []
    },
    {
     "data": {},
     "execution_count": 45,
     "metadata": {},
     "output_type": "execute_result"
    }
   ],
   "source": [
    "lcv_warm_processed = pd.read_csv(os.path.join(processed_data_path, 'EFA_HOT_Subsegm_LCV2025detailedV4.csv.gz'), sep=';', compression='gzip')\n",
    "lcv_warm_processed"
   ]
  },
  {
   "cell_type": "code",
   "execution_count": 46,
   "metadata": {},
   "outputs": [
    {
     "data": {},
     "execution_count": 46,
     "metadata": {},
     "output_type": "execute_result"
    }
   ],
   "source": [
    "lcv_warm_processed[(lcv_warm_processed['EmConcept']=='LCV P Euro-6') \n",
    "                   & (lcv_warm_processed['Component']=='PM2.5')\n",
    "                    & (lcv_warm_processed['SizeClasse']=='N1-III')]"
   ]
  },
  {
   "cell_type": "markdown",
   "metadata": {},
   "source": [
    "## MC warm"
   ]
  },
  {
   "cell_type": "code",
   "execution_count": 3,
   "metadata": {},
   "outputs": [
    {
     "data": {},
     "execution_count": 3,
     "metadata": {},
     "output_type": "execute_result"
    }
   ],
   "source": [
    "mc_warm_v4 = pd.read_csv(os.path.join(processed_data_path, 'EFA_HOT_Subsegm_MC2025detailed.csv.gz'), sep=';', compression='gzip')\n",
    "mc_warm_v4"
   ]
  },
  {
   "cell_type": "code",
   "execution_count": 18,
   "metadata": {},
   "outputs": [
    {
     "data": {},
     "execution_count": 18,
     "metadata": {},
     "output_type": "execute_result"
    }
   ],
   "source": [
    "mc_warm_v4[mc_warm_v4['Subsegment'] == 'eScooter']"
   ]
  },
  {
   "cell_type": "code",
   "execution_count": 4,
   "metadata": {},
   "outputs": [
    {
     "data": {},
     "execution_count": 4,
     "metadata": {},
     "output_type": "execute_result"
    }
   ],
   "source": [
    "mc_warm_v3 = pd.read_csv('/Volumes/External/gitProj/xanderPeng/data/intermediate/test/freightEmissions/EFA_HOT_Subsegm_MC2025detailed.csv.gz', sep=';', compression='gzip')\n",
    "mc_warm_v3"
   ]
  },
  {
   "cell_type": "code",
   "execution_count": 19,
   "metadata": {},
   "outputs": [
    {
     "data": {},
     "execution_count": 19,
     "metadata": {},
     "output_type": "execute_result"
    }
   ],
   "source": [
    "mc_warm_v3[mc_warm_v3['Subsegment'] == 'eScooter']"
   ]
  },
  {
   "cell_type": "code",
   "execution_count": null,
   "metadata": {},
   "outputs": [],
   "source": []
  }
 ],
 "metadata": {
  "kernelspec": {
   "display_name": "TransAndGeoMac",
   "language": "python",
   "name": "python3"
  },
  "language_info": {
   "codemirror_mode": {
    "name": "ipython",
    "version": 3
   },
   "file_extension": ".py",
   "mimetype": "text/x-python",
   "name": "python",
   "nbconvert_exporter": "python",
   "pygments_lexer": "ipython3",
   "version": "3.10.15"
  }
 },
 "nbformat": 4,
 "nbformat_minor": 2
}
