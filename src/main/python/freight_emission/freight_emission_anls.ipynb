{
 "cells": [
  {
   "cell_type": "code",
   "execution_count": 1,
   "metadata": {},
   "outputs": [],
   "source": [
    "import os\n",
    "import numpy as np\n",
    "import pandas as pd\n",
    "import matsim\n",
    "import matplotlib.pyplot as plt\n",
    "import seaborn as sns"
   ]
  },
  {
   "cell_type": "markdown",
   "metadata": {},
   "source": [
    "# Path Configuration"
   ]
  },
  {
   "cell_type": "code",
   "execution_count": null,
   "metadata": {},
   "outputs": [],
   "source": [
    "freight_emission_input_root = r'../../../../data/intermediate/test/freightEmissions/'\n",
    "freight_emission_output_root = r'../../../../data/clean/freightEmissions/'\n",
    "van_scenario = 'scenarioVan/'\n",
    "cb_scenario = 'scenarioCB/'\n",
    "iter_idx = 0"
   ]
  },
  {
   "cell_type": "code",
   "execution_count": 3,
   "metadata": {},
   "outputs": [],
   "source": [
    "global input_file_dir\n",
    "global output_dir"
   ]
  },
  {
   "cell_type": "code",
   "execution_count": null,
   "metadata": {},
   "outputs": [],
   "source": [
    "scenario_kw = 'van'\n",
    "\n",
    "if scenario_kw == 'van':\n",
    "    scenario = van_scenario\n",
    "elif scenario_kw == 'cb':\n",
    "    scenario = cb_scenario\n",
    "else:\n",
    "    raise ValueError('scenario_kw must be either \"van\" or \"cb\"')"
   ]
  },
  {
   "cell_type": "code",
   "execution_count": 2,
   "metadata": {},
   "outputs": [],
   "source": [
    "def set_paths(scenario, iter_idx):\n",
    "    input_file_dir = freight_emission_input_root + scenario + 'iter' + str(iter_idx) + 'outputs/'\n",
    "    output_dir = freight_emission_output_root + scenario + 'iter' + str(iter_idx) + '//'\n",
    "\n",
    "    if not os.path.exists(output_dir):\n",
    "        os.makedirs(output_dir)"
   ]
  },
  {
   "cell_type": "code",
   "execution_count": null,
   "metadata": {},
   "outputs": [],
   "source": [
    "def read_freight_emission_data(scenario, iter_idx):\n",
    "\n",
    "    # Read the freight emission events\n",
    "    freight_emission_events = matsim.event_reader(input_file_dir+'output_events.xml.gz', types='coldEmissionEvent,warmEmissionEvent')\n",
    "    # Convert to DataFrame\n",
    "    ## Get all the emission event keys\n",
    "    event_keys = set()\n",
    "    events_list = []\n",
    "    for emission_event in emission_events:\n",
    "        # type(emission_event)\n",
    "        # print(emission_event)\n",
    "        events_list.append(emission_event)\n",
    "        current_keys = list(emission_event.keys())\n",
    "        event_keys.update(current_keys)\n",
    "\n",
    "    events_dict = {}\n",
    "    for idx, event in enumerate(events_list):\n",
    "        event_dict = {}\n",
    "        for key in event_keys:\n",
    "            if key in event.keys():\n",
    "                event_dict[key] = event[key]\n",
    "            else:\n",
    "                event_dict[key] = None\n",
    "        events_dict[idx] = event_dict\n",
    "    \n",
    "    events_df = pd.DataFrame.from_dict(events_dict, orient='index')\n",
    "\n",
    "    # Convert columns which is number-like str into float and ignore the rest\n",
    "    for column in events_df.columns:    \n",
    "        try:\n",
    "            events_df[column] = events_df[column].astype(float)\n",
    "        except:\n",
    "            pass\n",
    "\n",
    "    return events_df\n"
   ]
  },
  {
   "cell_type": "code",
   "execution_count": null,
   "metadata": {},
   "outputs": [],
   "source": []
  }
 ],
 "metadata": {
  "kernelspec": {
   "display_name": "Python 3",
   "language": "python",
   "name": "python3"
  },
  "language_info": {
   "codemirror_mode": {
    "name": "ipython",
    "version": 3
   },
   "file_extension": ".py",
   "mimetype": "text/x-python",
   "name": "python",
   "nbconvert_exporter": "python",
   "pygments_lexer": "ipython3",
   "version": "3.10.14"
  }
 },
 "nbformat": 4,
 "nbformat_minor": 2
}
