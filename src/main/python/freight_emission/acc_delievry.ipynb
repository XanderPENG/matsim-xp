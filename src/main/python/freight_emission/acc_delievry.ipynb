{
 "cells": [
  {
   "cell_type": "code",
   "execution_count": 2,
   "metadata": {},
   "outputs": [],
   "source": [
    "import numpy as np\n",
    "import pandas as pd\n",
    "import matplotlib.pyplot as plt\n",
    "import geopandas as gpd\n",
    "import os\n",
    "import matsim\n",
    "import networkx as nx"
   ]
  },
  {
   "cell_type": "markdown",
   "metadata": {},
   "source": [
    "# Utils"
   ]
  },
  {
   "cell_type": "code",
   "execution_count": 3,
   "metadata": {},
   "outputs": [],
   "source": [
    "''' Convert network to graph '''\n",
    "def getNodeInfo(nodesDict,\n",
    "                nodeCoords,\n",
    "                ):\n",
    "    nodesDictKeys = list(nodesDict.keys())\n",
    "    nodesDictValues = list(nodesDict.values())\n",
    "\n",
    "    node_id = None\n",
    "    if nodesDict == {}:\n",
    "        return node_id\n",
    "\n",
    "    # If the node is in the nodeDict\n",
    "    if nodeCoords in nodesDictValues:\n",
    "        node_id = nodesDictKeys[nodesDictValues.index(nodeCoords)]\n",
    "\n",
    "    else:  # Find the 'same' node in the nodeDict (distance < 0.2m)\n",
    "        dist_array = haversine_vector(np.array(nodesDictValues),\n",
    "                                      np.array([nodeCoords]),\n",
    "                                      Unit.METERS,\n",
    "                                      comb=True)\n",
    "        # Get the index of the 'same' node (if applicable)\n",
    "        try:\n",
    "            closeNode_idx = np.where(dist_array < 0.2)[1][0]\n",
    "        except:\n",
    "            closeNode_idx = None\n",
    "\n",
    "        # If the point is close to an existing node, return the node id of the existing node\n",
    "        if closeNode_idx is not None:\n",
    "            node_id = nodesDictKeys[closeNode_idx]\n",
    "\n",
    "    return node_id\n",
    "\n",
    "def create_graph(road_gdf: gpd.GeoDataFrame,\n",
    "                 length_col='length',\n",
    "                 \n",
    "                 ):\n",
    "    splitG = nx.DiGraph()\n",
    "\n",
    "    # Create a dictionary to store the unique nodes (id, coords)\n",
    "    nodesDict = {}\n",
    "\n",
    "    start_nodes = []\n",
    "    end_nodes = []\n",
    "\n",
    "    node_idx = 0\n",
    "    for idx, row in road_gdf.iterrows():\n",
    "        # idx = row.index\n",
    "        length = row[length_col]\n",
    "        line = row['geometry']\n",
    "        line_orig_id = row['link_id']\n",
    "\n",
    "        # (lat, lon) format\n",
    "        lineStartCoords = (line.coords[0][1], line.coords[0][0])\n",
    "        lineEndCoords = (line.coords[-1][1], line.coords[-1][0])\n",
    "\n",
    "        # Get the node id of the start and end nodes\n",
    "        startNodeOrigId = row['from_node']\n",
    "        endNodeOrigId = row['to_node']\n",
    "\n",
    "        startNode_id = getNodeInfo(nodesDict, lineStartCoords)\n",
    "        if startNode_id is None:\n",
    "            startNode_id = node_idx\n",
    "            node_idx += 1\n",
    "            nodesDict[startNode_id] = lineStartCoords\n",
    "\n",
    "        endNode_id = getNodeInfo(nodesDict, lineEndCoords)\n",
    "        if endNode_id is None:\n",
    "            endNode_id = node_idx\n",
    "            node_idx += 1\n",
    "            nodesDict[endNode_id] = lineEndCoords\n",
    "\n",
    "        start_nodes.append(startNode_id)\n",
    "        end_nodes.append(endNode_id)\n",
    "\n",
    "        # Add nodes to the graph\n",
    "        if not splitG.has_node(startNode_id):\n",
    "            splitG.add_node(startNode_id, x=lineStartCoords[1], y=lineStartCoords[0], \n",
    "                            orig_id=startNodeOrigId # Add the original node id of the node\n",
    "                            )\n",
    "        if not splitG.has_node(endNode_id):\n",
    "            splitG.add_node(endNode_id, x=lineEndCoords[1], y=lineEndCoords[0],\n",
    "                            orig_id=endNodeOrigId # Add the original node id of the node\n",
    "                            )\n",
    "        splitG.add_edge(startNode_id, endNode_id,\n",
    "                        length=length,\n",
    "                        orig_id=line_orig_id,\n",
    "                        idx=idx)\n",
    "\n",
    "    splitG.graph['crs'] = \"EPSG:4326\"\n",
    "\n",
    "    indexed_road = road_gdf.copy()\n",
    "\n",
    "    indexed_road['start_node'] = start_nodes\n",
    "    indexed_road['end_node'] = end_nodes\n",
    "\n",
    "    return splitG, indexed_road"
   ]
  },
  {
   "cell_type": "markdown",
   "metadata": {},
   "source": [
    "# Read the car and bike network"
   ]
  },
  {
   "cell_type": "code",
   "execution_count": null,
   "metadata": {},
   "outputs": [],
   "source": [
    "network_root_path = r'../../../../data/intermediate/test/freightEmissions/' \n",
    "\n",
    "bike_network = matsim.read_network(network_root_path + 'bikeGemeenteLeuvenWithHbefaType.xml.gz')\n",
    "car_network = matsim.read_network(network_root_path + 'carGemeenteLeuvenWithHbefaType.xml.gz')\n",
    "raw_network = matsim.read_network(network_root_path + 'GemeenteLeuvenWithHbefaType.xml.gz')\n",
    "\n",
    "bike_network_gdf = bike_network.as_geo()\n",
    "car_network_gdf = car_network.as_geo()\n",
    "raw_network_gdf = raw_network.as_geo()\n",
    "\n",
    "bike_network_gdf.crs = 'epsg:31370'\n",
    "car_network_gdf.crs = 'epsg:31370'\n",
    "raw_network_gdf.crs = 'epsg:31370'\n",
    "\n",
    "bike_nodes = bike_network.nodes\n",
    "car_nodes = car_network.nodes\n",
    "raw_nodes = raw_network.nodes\n",
    "\n",
    "bike_nodes_gdf = gpd.GeoDataFrame(bike_nodes, geometry=gpd.points_from_xy(bike_nodes.x, bike_nodes.y))\n",
    "bike_nodes_gdf.crs = 'epsg:31370'\n",
    "car_nodes_gdf = gpd.GeoDataFrame(car_nodes, geometry=gpd.points_from_xy(car_nodes.x, car_nodes.y))\n",
    "car_nodes_gdf.crs = 'epsg:31370'\n",
    "raw_nodes_gdf = gpd.GeoDataFrame(raw_nodes, geometry=gpd.points_from_xy(raw_nodes.x, raw_nodes.y))\n",
    "raw_nodes_gdf.crs = 'epsg:31370'"
   ]
  },
  {
   "cell_type": "code",
   "execution_count": null,
   "metadata": {},
   "outputs": [],
   "source": [
    "bike_splitG, bike_indexed_road = create_graph(bike_network_gdf.to_crs('EPSG:4326'))\n",
    "car_splitG, car_indexed_road = create_graph(car_network_gdf.to_crs('EPSG:4326'))"
   ]
  },
  {
   "cell_type": "markdown",
   "metadata": {},
   "source": [
    "# Generate demand points randomly"
   ]
  },
  {
   "cell_type": "code",
   "execution_count": 6,
   "metadata": {},
   "outputs": [],
   "source": [
    "bound_area = (172161.734, 174265.856, 173412.828, 175444.093)\n",
    "num_points = 200"
   ]
  },
  {
   "cell_type": "markdown",
   "metadata": {},
   "source": [
    "1. Generate 200 points in the `raw_network` nodes\n",
    "   1. Get the coords of all demand points, and convert to `GDF`\n",
    "   2. Put the GDF into `bike_gdf_dict` and `car_gdf_dict` (`{iter: gdf}`)\n",
    "2. Use `nx.shortest_path` to check accessibility of each demand point at *bike_network* and *car_network*, respectively\n",
    "3. Use `haversine` (or use walk network to cal the walking distance )to calculate the **extra_distance** needed for inaccessible points\n",
    "4. Label the `access` and `extra_distance` of each point in the `GDF`\n",
    "5. Spatial Join to get the statistics of *inaccessible num/ratio* and `extra distance`"
   ]
  },
  {
   "cell_type": "code",
   "execution_count": null,
   "metadata": {},
   "outputs": [],
   "source": []
  }
 ],
 "metadata": {
  "kernelspec": {
   "display_name": "TransAndGeoMac",
   "language": "python",
   "name": "python3"
  },
  "language_info": {
   "codemirror_mode": {
    "name": "ipython",
    "version": 3
   },
   "file_extension": ".py",
   "mimetype": "text/x-python",
   "name": "python",
   "nbconvert_exporter": "python",
   "pygments_lexer": "ipython3",
   "version": "3.10.15"
  }
 },
 "nbformat": 4,
 "nbformat_minor": 2
}
